{
 "cells": [
  {
   "cell_type": "code",
   "execution_count": null,
   "id": "25696747",
   "metadata": {
    "vscode": {
     "languageId": "plaintext"
    }
   },
   "outputs": [],
   "source": [
    "import csv\n",
    "import pandas as pd\n",
    "import folium\n",
    "\n",
    "# --- Step 1: place列の括弧補正処理（data.csv） ---\n",
    "def fix_place(place: str) -> str:\n",
    "    if place.count('(') > place.count(')'):\n",
    "        place += ')'\n",
    "    return place\n",
    "\n",
    "# 補正後の行を保存するためのリスト\n",
    "corrected_rows = []\n",
    "\n",
    "with open('data.csv', encoding='utf-8') as f:\n",
    "    reader = csv.DictReader(f)\n",
    "    for row in reader:\n",
    "        row['place'] = fix_place(row['place'])\n",
    "        corrected_rows.append(row)\n",
    "\n",
    "# 確認用（不要なら削除）\n",
    "for row in corrected_rows:\n",
    "    print(row)\n",
    "\n",
    "# --- Step 2: pandas でデータ読み込み ---\n",
    "df = pd.read_csv(\"fungi_data_expanded.csv\")\n",
    "\n",
    "# --- Step 3: 地図の作成 ---\n",
    "center = [df['latitude'].mean(), df['longitude'].mean()]\n",
    "m = folium.Map(location=center, zoom_start=3)\n",
    "\n",
    "for _, row in df.iterrows():\n",
    "    if pd.notnull(row['latitude']) and pd.notnull(row['longitude']):\n",
    "        folium.Marker(\n",
    "            location=[row['latitude'], row['longitude']],\n",
    "            popup=row['taxa_name']\n",
    "        ).add_to(m)\n",
    "\n",
    "# --- Step 4: Jupyter Notebook 上で地図を表示 ---\n",
    "m  # Jupyter Notebook では、これで地図が表示されます\n"
   ]
  }
 ],
 "metadata": {
  "kernelspec": {
   "display_name": "Python 3 (ipykernel)",
   "language": "python",
   "name": "python3"
  },
  "language_info": {
   "codemirror_mode": {
    "name": "ipython",
    "version": 3
   },
   "file_extension": ".py",
   "mimetype": "text/x-python",
   "name": "python",
   "nbconvert_exporter": "python",
   "pygments_lexer": "ipython3",
   "version": "3.12.7"
  }
 },
 "nbformat": 4,
 "nbformat_minor": 5
}
